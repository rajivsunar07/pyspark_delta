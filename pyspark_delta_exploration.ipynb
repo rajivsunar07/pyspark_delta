{
 "cells": [
  {
   "cell_type": "markdown",
   "metadata": {
    "application/vnd.databricks.v1+cell": {
     "cellMetadata": {
      "byteLimit": 2048000,
      "rowLimit": 10000
     },
     "inputWidgets": {},
     "nuid": "e1993457-dc2a-461b-98c3-d1e1e9825247",
     "showTitle": false,
     "tableResultSettingsMap": {},
     "title": ""
    }
   },
   "source": [
    "#Exploration of Delta Lake"
   ]
  },
  {
   "cell_type": "code",
   "execution_count": 0,
   "metadata": {
    "application/vnd.databricks.v1+cell": {
     "cellMetadata": {
      "byteLimit": 2048000,
      "rowLimit": 10000
     },
     "inputWidgets": {},
     "nuid": "cd7bf233-ed7e-46af-b685-20f6e6c1984e",
     "showTitle": false,
     "tableResultSettingsMap": {},
     "title": ""
    }
   },
   "outputs": [],
   "source": [
    "import pyspark\n",
    "from delta import *\n",
    "from pyspark.sql import SparkSession\n",
    "from pyspark.sql.functions import *\n",
    "\n",
    "# Initialize Spark Session with Delta Lake support\n",
    "spark = (SparkSession.builder\n",
    "    .appName(\"DeltaLakeExploration\")\n",
    "    .config(\"spark.sql.extensions\", \"io.delta.sql.DeltaSparkSessionExtension\")\n",
    "    .config(\"spark.sql.catalog.spark_catalog\", \"org.apache.spark.sql.delta.catalog.DeltaCatalog\")\n",
    "    .getOrCreate())\n"
   ]
  },
  {
   "cell_type": "code",
   "execution_count": 0,
   "metadata": {
    "application/vnd.databricks.v1+cell": {
     "cellMetadata": {
      "byteLimit": 2048000,
      "rowLimit": 10000
     },
     "inputWidgets": {},
     "nuid": "d130d68e-39c1-409f-a2a5-d1d7c4b619c0",
     "showTitle": false,
     "tableResultSettingsMap": {},
     "title": ""
    }
   },
   "outputs": [],
   "source": [
    "\n",
    "# Define Delta Lake path\n",
    "delta_table_path = \"/tmp/delta_table\"\n",
    "\n",
    "# Create a simple DataFrame\n",
    "data = [(1, \"Alice\", 29), (2, \"Bob\", 34), (3, \"Charlie\", 23)]\n",
    "columns = [\"id\", \"name\", \"age\"]\n",
    "df = spark.createDataFrame(data, columns)\n",
    "\n",
    "# Write DataFrame to Delta format\n",
    "df.write.format(\"delta\").mode(\"overwrite\").save(delta_table_path)\n",
    "\n"
   ]
  },
  {
   "cell_type": "code",
   "execution_count": 0,
   "metadata": {
    "application/vnd.databricks.v1+cell": {
     "cellMetadata": {
      "byteLimit": 2048000,
      "rowLimit": 10000
     },
     "inputWidgets": {},
     "nuid": "e86d1209-9b95-4846-8c1b-5c58612a30a6",
     "showTitle": false,
     "tableResultSettingsMap": {},
     "title": ""
    }
   },
   "outputs": [
    {
     "output_type": "stream",
     "name": "stdout",
     "output_type": "stream",
     "text": [
      "+---+-------+---+------+\n| id|   name|age|gender|\n+---+-------+---+------+\n|  3|Charlie| 23|  null|\n|  1|  Alice| 29|  null|\n|  2|    Bob| 34|  null|\n+---+-------+---+------+\n\n"
     ]
    }
   ],
   "source": [
    "\n",
    "# Read Delta Table\n",
    "delta_df = spark.read.format(\"delta\").load(delta_table_path)\n",
    "delta_df.show()\n"
   ]
  },
  {
   "cell_type": "code",
   "execution_count": 0,
   "metadata": {
    "application/vnd.databricks.v1+cell": {
     "cellMetadata": {
      "byteLimit": 2048000,
      "rowLimit": 10000
     },
     "inputWidgets": {},
     "nuid": "9f1bb8af-8e8b-4b5a-9ae4-058f52427b3d",
     "showTitle": false,
     "tableResultSettingsMap": {},
     "title": ""
    }
   },
   "outputs": [],
   "source": [
    "# Append new data\n",
    "new_data = [(4, \"David\", 45), (5, \"Emma\", 31)]\n",
    "new_df = spark.createDataFrame(new_data, columns)\n",
    "new_df.write.format(\"delta\").mode(\"append\").save(delta_table_path)"
   ]
  },
  {
   "cell_type": "code",
   "execution_count": 0,
   "metadata": {
    "application/vnd.databricks.v1+cell": {
     "cellMetadata": {
      "byteLimit": 2048000,
      "rowLimit": 10000
     },
     "inputWidgets": {},
     "nuid": "5048daed-f1e5-4fd3-9f0b-9f9fcd247686",
     "showTitle": false,
     "tableResultSettingsMap": {},
     "title": ""
    }
   },
   "outputs": [
    {
     "output_type": "stream",
     "name": "stdout",
     "output_type": "stream",
     "text": [
      "+---+-------+---+------+\n| id|   name|age|gender|\n+---+-------+---+------+\n|  3|Charlie| 23|  null|\n|  1|  Alice| 29|  null|\n|  4|  David| 45|  null|\n|  5|   Emma| 31|  null|\n|  2|    Bob| 34|  null|\n+---+-------+---+------+\n\n"
     ]
    }
   ],
   "source": [
    "# Read updated table\n",
    "spark.read.format(\"delta\").load(delta_table_path).show()"
   ]
  },
  {
   "cell_type": "code",
   "execution_count": 0,
   "metadata": {
    "application/vnd.databricks.v1+cell": {
     "cellMetadata": {
      "byteLimit": 2048000,
      "rowLimit": 10000
     },
     "inputWidgets": {},
     "nuid": "3ccf79cc-719e-44e4-b26d-30a9356b5b25",
     "showTitle": false,
     "tableResultSettingsMap": {},
     "title": ""
    }
   },
   "outputs": [
    {
     "output_type": "stream",
     "name": "stdout",
     "output_type": "stream",
     "text": [
      "Available Versions:\n+-------+-------------------+----------------+--------------------+---------+--------------------+----+------------------+--------------------+-----------+-----------------+-------------+--------------------+------------+--------------------+\n|version|          timestamp|          userId|            userName|operation| operationParameters| job|          notebook|           clusterId|readVersion|   isolationLevel|isBlindAppend|    operationMetrics|userMetadata|          engineInfo|\n+-------+-------------------+----------------+--------------------+---------+--------------------+----+------------------+--------------------+-----------+-----------------+-------------+--------------------+------------+--------------------+\n|      7|2025-03-13 14:07:42|4022047655635652|uninterested.cent...|    WRITE|{mode -> Append, ...|null|{3494345668537905}|0313-140107-z6ah7unc|          6|WriteSerializable|         true|{numFiles -> 2, n...|        null|Databricks-Runtim...|\n|      6|2025-03-13 14:07:27|4022047655635652|uninterested.cent...|    WRITE|{mode -> Overwrit...|null|{3494345668537905}|0313-140107-z6ah7unc|          5|WriteSerializable|        false|{numFiles -> 3, n...|        null|Databricks-Runtim...|\n|      5|2025-03-13 10:59:58|4022047655635652|uninterested.cent...|    WRITE|{mode -> Append, ...|null|{3494345668537905}|0313-094109-8px11srg|          4|WriteSerializable|         true|{numFiles -> 1, n...|        null|Databricks-Runtim...|\n|      4|2025-03-13 10:59:46|4022047655635652|uninterested.cent...|    WRITE|{mode -> Append, ...|null|{3494345668537905}|0313-094109-8px11srg|          3|WriteSerializable|         true|{numFiles -> 2, n...|        null|Databricks-Runtim...|\n|      3|2025-03-13 10:59:38|4022047655635652|uninterested.cent...|    WRITE|{mode -> Overwrit...|null|{3494345668537905}|0313-094109-8px11srg|          2|WriteSerializable|        false|{numFiles -> 3, n...|        null|Databricks-Runtim...|\n|      2|2025-03-13 10:50:46|4022047655635652|uninterested.cent...|    WRITE|{mode -> Append, ...|null|{3494345668537905}|0313-094109-8px11srg|          1|WriteSerializable|         true|{numFiles -> 2, n...|        null|Databricks-Runtim...|\n|      1|2025-03-13 10:50:02|4022047655635652|uninterested.cent...|    WRITE|{mode -> Append, ...|null|{3494345668537905}|0313-094109-8px11srg|          0|WriteSerializable|         true|{numFiles -> 2, n...|        null|Databricks-Runtim...|\n|      0|2025-03-13 10:49:40|4022047655635652|uninterested.cent...|    WRITE|{mode -> Overwrit...|null|{3494345668537905}|0313-094109-8px11srg|       null|WriteSerializable|        false|{numFiles -> 3, n...|        null|Databricks-Runtim...|\n+-------+-------------------+----------------+--------------------+---------+--------------------+----+------------------+--------------------+-----------+-----------------+-------------+--------------------+------------+--------------------+\n\n"
     ]
    }
   ],
   "source": [
    "\n",
    "# Time Travel: View previous versions of data\n",
    "from delta.tables import *\n",
    "delta_table = DeltaTable.forPath(spark, delta_table_path)\n",
    "print(\"Available Versions:\")\n",
    "spark.sql(f\"DESCRIBE HISTORY delta.`{delta_table_path}`\").show()"
   ]
  },
  {
   "cell_type": "code",
   "execution_count": 0,
   "metadata": {
    "application/vnd.databricks.v1+cell": {
     "cellMetadata": {
      "byteLimit": 2048000,
      "rowLimit": 10000
     },
     "inputWidgets": {},
     "nuid": "e5734875-f304-49f9-be78-283012cb22e1",
     "showTitle": false,
     "tableResultSettingsMap": {},
     "title": ""
    }
   },
   "outputs": [
    {
     "output_type": "stream",
     "name": "stdout",
     "output_type": "stream",
     "text": [
      "+---+-------+---+\n| id|   name|age|\n+---+-------+---+\n|  3|Charlie| 23|\n|  1|  Alice| 29|\n|  2|    Bob| 34|\n+---+-------+---+\n\n"
     ]
    }
   ],
   "source": [
    "# Read an older version\n",
    "time_travel_df = spark.read.format(\"delta\").option(\"versionAsOf\", 0).load(delta_table_path)\n",
    "time_travel_df.show()"
   ]
  },
  {
   "cell_type": "code",
   "execution_count": 0,
   "metadata": {
    "application/vnd.databricks.v1+cell": {
     "cellMetadata": {
      "byteLimit": 2048000,
      "rowLimit": 10000
     },
     "inputWidgets": {},
     "nuid": "dd833489-6662-408c-b4e9-11dad3d1a24f",
     "showTitle": false,
     "tableResultSettingsMap": {},
     "title": ""
    }
   },
   "outputs": [],
   "source": [
    "\n",
    "# Schema Evolution: Add a new column\n",
    "new_schema_data = [(6, \"Frank\", 39, \"M\")]\n",
    "new_columns = [\"id\", \"name\", \"age\", \"gender\"]\n",
    "new_schema_df = spark.createDataFrame(new_schema_data, new_columns)\n",
    "new_schema_df.write.format(\"delta\").mode(\"append\").option(\"mergeSchema\", \"true\").save(delta_table_path)"
   ]
  },
  {
   "cell_type": "code",
   "execution_count": 0,
   "metadata": {
    "application/vnd.databricks.v1+cell": {
     "cellMetadata": {
      "byteLimit": 2048000,
      "rowLimit": 10000
     },
     "inputWidgets": {},
     "nuid": "c54c6b01-7287-4c5d-aad0-b4e23c3b2e5c",
     "showTitle": false,
     "tableResultSettingsMap": {},
     "title": ""
    }
   },
   "outputs": [
    {
     "output_type": "stream",
     "name": "stdout",
     "output_type": "stream",
     "text": [
      "+---+-------+---+------+\n| id|   name|age|gender|\n+---+-------+---+------+\n|  6|  Frank| 39|     M|\n|  3|Charlie| 23|  null|\n|  1|  Alice| 29|  null|\n|  4|  David| 45|  null|\n|  5|   Emma| 31|  null|\n|  2|    Bob| 34|  null|\n+---+-------+---+------+\n\n"
     ]
    }
   ],
   "source": [
    "\n",
    "# Read the updated schema\n",
    "delta_df_updated = spark.read.format(\"delta\").load(delta_table_path)\n",
    "delta_df_updated.show()"
   ]
  },
  {
   "cell_type": "code",
   "execution_count": 0,
   "metadata": {
    "application/vnd.databricks.v1+cell": {
     "cellMetadata": {
      "byteLimit": 2048000,
      "rowLimit": 10000
     },
     "inputWidgets": {},
     "nuid": "698dedbc-69b2-4b04-bdd1-c951312e0bed",
     "showTitle": false,
     "tableResultSettingsMap": {},
     "title": ""
    }
   },
   "outputs": [
    {
     "output_type": "stream",
     "name": "stdout",
     "output_type": "stream",
     "text": [
      "Out[14]: DataFrame[]"
     ]
    }
   ],
   "source": [
    "# Data Compaction: Optimize and Vacuum\n",
    "delta_table.optimize()\n",
    "delta_table.vacuum(retentionHours=168)  # Clean old versions after 7 days"
   ]
  },
  {
   "cell_type": "code",
   "execution_count": 0,
   "metadata": {
    "application/vnd.databricks.v1+cell": {
     "cellMetadata": {
      "byteLimit": 2048000,
      "rowLimit": 10000
     },
     "inputWidgets": {},
     "nuid": "6e51c5f5-96f7-4f17-9beb-da5ff6b6e895",
     "showTitle": false,
     "tableResultSettingsMap": {},
     "title": ""
    }
   },
   "outputs": [
    {
     "output_type": "display_data",
     "data": {
      "text/html": [
       "<style scoped>\n",
       "  .table-result-container {\n",
       "    max-height: 300px;\n",
       "    overflow: auto;\n",
       "  }\n",
       "  table, th, td {\n",
       "    border: 1px solid black;\n",
       "    border-collapse: collapse;\n",
       "  }\n",
       "  th, td {\n",
       "    padding: 5px;\n",
       "  }\n",
       "  th {\n",
       "    text-align: left;\n",
       "  }\n",
       "</style><div class='table-result-container'><table class='table-result'><thead style='background-color: white'><tr><th>id</th><th>name</th><th>age</th><th>gender</th></tr></thead><tbody><tr><td>6</td><td>Frank</td><td>39</td><td>M</td></tr><tr><td>7</td><td>Grace</td><td>27</td><td>null</td></tr><tr><td>1</td><td>Alice</td><td>30</td><td>null</td></tr><tr><td>3</td><td>Charlie</td><td>23</td><td>null</td></tr><tr><td>4</td><td>David</td><td>45</td><td>null</td></tr><tr><td>5</td><td>Emma</td><td>31</td><td>null</td></tr><tr><td>2</td><td>Bob</td><td>34</td><td>null</td></tr></tbody></table></div>"
      ]
     },
     "metadata": {
      "application/vnd.databricks.v1+output": {
       "addedWidgets": {},
       "aggData": [],
       "aggError": "",
       "aggOverflow": false,
       "aggSchema": [],
       "aggSeriesLimitReached": false,
       "aggType": "",
       "arguments": {},
       "columnCustomDisplayInfos": {},
       "data": [
        [
         6,
         "Frank",
         39,
         "M"
        ],
        [
         7,
         "Grace",
         27,
         null
        ],
        [
         1,
         "Alice",
         30,
         null
        ],
        [
         3,
         "Charlie",
         23,
         null
        ],
        [
         4,
         "David",
         45,
         null
        ],
        [
         5,
         "Emma",
         31,
         null
        ],
        [
         2,
         "Bob",
         34,
         null
        ]
       ],
       "datasetInfos": [],
       "dbfsResultPath": null,
       "isJsonSchema": true,
       "metadata": {},
       "overflow": false,
       "plotOptions": {
        "customPlotOptions": {},
        "displayType": "table",
        "pivotAggregation": null,
        "pivotColumns": null,
        "xColumns": null,
        "yColumns": null
       },
       "removedWidgets": [],
       "schema": [
        {
         "metadata": "{}",
         "name": "id",
         "type": "\"long\""
        },
        {
         "metadata": "{}",
         "name": "name",
         "type": "\"string\""
        },
        {
         "metadata": "{}",
         "name": "age",
         "type": "\"long\""
        },
        {
         "metadata": "{}",
         "name": "gender",
         "type": "\"string\""
        }
       ],
       "type": "table"
      }
     },
     "output_type": "display_data"
    }
   ],
   "source": [
    "\n",
    "# Concurrency Control: MERGE INTO for Upserts\n",
    "merge_data = [(1, \"Alice\", 30), (7, \"Grace\", 27)]\n",
    "merge_df = spark.createDataFrame(merge_data, columns)\n",
    "\n",
    "delta_table.alias(\"t\").merge(\n",
    "    merge_df.alias(\"s\"), \"t.id = s.id\"\n",
    ").whenMatchedUpdate(set={\"age\": \"s.age\"}) \\\n",
    ".whenNotMatchedInsert(values={\"id\": \"s.id\", \"name\": \"s.name\", \"age\": \"s.age\"}) \\\n",
    ".execute()\n",
    "\n",
    "display(spark.read.format(\"delta\").load(delta_table_path))\n"
   ]
  },
  {
   "cell_type": "code",
   "execution_count": 0,
   "metadata": {
    "application/vnd.databricks.v1+cell": {
     "cellMetadata": {
      "byteLimit": 2048000,
      "rowLimit": 10000
     },
     "inputWidgets": {},
     "nuid": "ea6aafa2-9e64-4aa0-b418-88dcce7ddca5",
     "showTitle": false,
     "tableResultSettingsMap": {},
     "title": ""
    }
   },
   "outputs": [
    {
     "output_type": "display_data",
     "data": {
      "text/html": [
       "<style scoped>\n",
       "  .table-result-container {\n",
       "    max-height: 300px;\n",
       "    overflow: auto;\n",
       "  }\n",
       "  table, th, td {\n",
       "    border: 1px solid black;\n",
       "    border-collapse: collapse;\n",
       "  }\n",
       "  th, td {\n",
       "    padding: 5px;\n",
       "  }\n",
       "  th {\n",
       "    text-align: left;\n",
       "  }\n",
       "</style><div class='table-result-container'><table class='table-result'><thead style='background-color: white'><tr><th>id</th><th>name</th><th>age</th><th>gender</th></tr></thead><tbody><tr><td>6</td><td>Frank</td><td>39</td><td>M</td></tr><tr><td>7</td><td>Grace</td><td>27</td><td>null</td></tr><tr><td>1</td><td>Alice</td><td>30</td><td>null</td></tr><tr><td>3</td><td>Charlie</td><td>23</td><td>null</td></tr><tr><td>4</td><td>David</td><td>45</td><td>null</td></tr><tr><td>5</td><td>Emma</td><td>31</td><td>null</td></tr><tr><td>2</td><td>Bob</td><td>34</td><td>null</td></tr></tbody></table></div>"
      ]
     },
     "metadata": {
      "application/vnd.databricks.v1+output": {
       "addedWidgets": {},
       "aggData": [],
       "aggError": "",
       "aggOverflow": false,
       "aggSchema": [],
       "aggSeriesLimitReached": false,
       "aggType": "",
       "arguments": {},
       "columnCustomDisplayInfos": {},
       "data": [
        [
         6,
         "Frank",
         39,
         "M"
        ],
        [
         7,
         "Grace",
         27,
         null
        ],
        [
         1,
         "Alice",
         30,
         null
        ],
        [
         3,
         "Charlie",
         23,
         null
        ],
        [
         4,
         "David",
         45,
         null
        ],
        [
         5,
         "Emma",
         31,
         null
        ],
        [
         2,
         "Bob",
         34,
         null
        ]
       ],
       "datasetInfos": [],
       "dbfsResultPath": null,
       "isJsonSchema": true,
       "metadata": {},
       "overflow": false,
       "plotOptions": {
        "customPlotOptions": {},
        "displayType": "table",
        "pivotAggregation": null,
        "pivotColumns": null,
        "xColumns": null,
        "yColumns": null
       },
       "removedWidgets": [],
       "schema": [
        {
         "metadata": "{}",
         "name": "id",
         "type": "\"long\""
        },
        {
         "metadata": "{}",
         "name": "name",
         "type": "\"string\""
        },
        {
         "metadata": "{}",
         "name": "age",
         "type": "\"long\""
        },
        {
         "metadata": "{}",
         "name": "gender",
         "type": "\"string\""
        }
       ],
       "type": "table"
      }
     },
     "output_type": "display_data"
    }
   ],
   "source": [
    "# Z-Ordering for Query Optimization\n",
    "spark.sql(f\"OPTIMIZE delta.`{delta_table_path}` ZORDER BY id\")\n",
    "display(spark.read.format(\"delta\").load(delta_table_path))"
   ]
  },
  {
   "cell_type": "code",
   "execution_count": 0,
   "metadata": {
    "application/vnd.databricks.v1+cell": {
     "cellMetadata": {
      "byteLimit": 2048000,
      "rowLimit": 10000
     },
     "inputWidgets": {},
     "nuid": "0789e4f6-2743-4dad-8100-54c85acee33c",
     "showTitle": false,
     "tableResultSettingsMap": {},
     "title": ""
    }
   },
   "outputs": [
    {
     "output_type": "display_data",
     "data": {
      "text/html": [
       "<style scoped>\n",
       "  .table-result-container {\n",
       "    max-height: 300px;\n",
       "    overflow: auto;\n",
       "  }\n",
       "  table, th, td {\n",
       "    border: 1px solid black;\n",
       "    border-collapse: collapse;\n",
       "  }\n",
       "  th, td {\n",
       "    padding: 5px;\n",
       "  }\n",
       "  th {\n",
       "    text-align: left;\n",
       "  }\n",
       "</style><div class='table-result-container'><table class='table-result'><thead style='background-color: white'><tr><th>id</th><th>name</th><th>age</th></tr></thead><tbody><tr><td>3</td><td>Charlie</td><td>23</td></tr><tr><td>1</td><td>Alice</td><td>29</td></tr><tr><td>2</td><td>Bob</td><td>34</td></tr></tbody></table></div>"
      ]
     },
     "metadata": {
      "application/vnd.databricks.v1+output": {
       "addedWidgets": {},
       "aggData": [],
       "aggError": "",
       "aggOverflow": false,
       "aggSchema": [],
       "aggSeriesLimitReached": false,
       "aggType": "",
       "arguments": {},
       "columnCustomDisplayInfos": {},
       "data": [
        [
         3,
         "Charlie",
         23
        ],
        [
         1,
         "Alice",
         29
        ],
        [
         2,
         "Bob",
         34
        ]
       ],
       "datasetInfos": [],
       "dbfsResultPath": null,
       "isJsonSchema": true,
       "metadata": {},
       "overflow": false,
       "plotOptions": {
        "customPlotOptions": {},
        "displayType": "table",
        "pivotAggregation": null,
        "pivotColumns": null,
        "xColumns": null,
        "yColumns": null
       },
       "removedWidgets": [],
       "schema": [
        {
         "metadata": "{}",
         "name": "id",
         "type": "\"long\""
        },
        {
         "metadata": "{}",
         "name": "name",
         "type": "\"string\""
        },
        {
         "metadata": "{}",
         "name": "age",
         "type": "\"long\""
        }
       ],
       "type": "table"
      }
     },
     "output_type": "display_data"
    }
   ],
   "source": [
    "# Audit Logging & History Tracking\n",
    "display(spark.sql(f\"SELECT * FROM delta.`{delta_table_path}` VERSION AS OF 0\"))\n"
   ]
  }
 ],
 "metadata": {
  "application/vnd.databricks.v1+notebook": {
   "computePreferences": null,
   "dashboards": [],
   "environmentMetadata": {
    "base_environment": "",
    "client": "1"
   },
   "language": "python",
   "notebookMetadata": {
    "mostRecentlyExecutedCommandWithImplicitDF": {
     "commandId": 2297388459862926,
     "dataframes": [
      "_sqldf"
     ]
    },
    "pythonIndentUnit": 4
   },
   "notebookName": "Delta Lake notebook",
   "widgets": {}
  }
 },
 "nbformat": 4,
 "nbformat_minor": 0
}
